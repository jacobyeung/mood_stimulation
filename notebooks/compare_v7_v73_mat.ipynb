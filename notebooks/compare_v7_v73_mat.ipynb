{
 "cells": [
  {
   "cell_type": "code",
   "execution_count": 1,
   "metadata": {},
   "outputs": [],
   "source": [
    "import numpy as np\n",
    "from scipy.io import loadmat\n",
    "import matplotlib.pyplot as plt"
   ]
  },
  {
   "cell_type": "code",
   "execution_count": 2,
   "metadata": {},
   "outputs": [],
   "source": [
    "fn = \"../OFC_data/v7_EC99_preprocessedDuringContinuous_6mA_Right_FreqBands.mat\"\n",
    "mat = loadmat(fn)"
   ]
  },
  {
   "cell_type": "code",
   "execution_count": 3,
   "metadata": {},
   "outputs": [
    {
     "data": {
      "text/plain": [
       "dict_keys(['__header__', '__version__', '__globals__', 'data'])"
      ]
     },
     "execution_count": 3,
     "metadata": {},
     "output_type": "execute_result"
    }
   ],
   "source": [
    "mat.keys()"
   ]
  },
  {
   "cell_type": "code",
   "execution_count": 4,
   "metadata": {},
   "outputs": [
    {
     "data": {
      "text/plain": [
       "19"
      ]
     },
     "execution_count": 4,
     "metadata": {},
     "output_type": "execute_result"
    }
   ],
   "source": [
    "len(mat[\"data\"][0][0])"
   ]
  },
  {
   "cell_type": "code",
   "execution_count": 5,
   "metadata": {},
   "outputs": [
    {
     "data": {
      "text/plain": [
       "array([[16384]], dtype=uint16)"
      ]
     },
     "execution_count": 5,
     "metadata": {},
     "output_type": "execute_result"
    }
   ],
   "source": [
    "mat[\"data\"][0][0][0]"
   ]
  },
  {
   "cell_type": "code",
   "execution_count": 6,
   "metadata": {},
   "outputs": [
    {
     "data": {
      "text/plain": [
       "{'__header__': b'MATLAB 5.0 MAT-file, Platform: MACI64, Created on: Wed Aug  9 16:20:00 2023',\n",
       " '__version__': '1.0',\n",
       " '__globals__': [],\n",
       " 'data': array([[(array([[16384]], dtype=uint16), array([[ 10,  16,  29,  30,  46,  69,  71,  72,  74,  75,  76,  77,  79,\n",
       "                  82, 108]], dtype=uint8), array([[33]], dtype=uint8), array([[14]], dtype=uint8), array([[ 709703,  709868,  710032, ..., 4354320, 4354484, 4354649]],\n",
       "               dtype=int32), array([[ 709656,  709821,  709985, ..., 4354273, 4354437, 4354602]],\n",
       "               dtype=int32), array([[512]], dtype=uint16), array([[array(['ROF1'], dtype='<U4'), array(['ROF2'], dtype='<U4'),\n",
       "                 array(['RH1'], dtype='<U3'), array(['RH2'], dtype='<U3'),\n",
       "                 array(['RH3'], dtype='<U3'), array(['RH4'], dtype='<U3'),\n",
       "                 array(['RC1'], dtype='<U3'), array(['RC2'], dtype='<U3'),\n",
       "                 array(['RI1'], dtype='<U3'), array(['RI2'], dtype='<U3'),\n",
       "                 array(['RI3'], dtype='<U3'), array(['LH2'], dtype='<U3'),\n",
       "                 array(['LH3'], dtype='<U3'), array(['LC2'], dtype='<U3'),\n",
       "                 array(['LI1'], dtype='<U3'), array(['LI2'], dtype='<U3'),\n",
       "                 array(['LI3'], dtype='<U3')]], dtype=object), array([[1, 1, 2, 2, 2, 2, 3, 3, 4, 4, 4, 5, 5, 6, 7, 7, 7]], dtype=uint8), array([[17]], dtype=uint8), array(['EC99'], dtype='<U4'), array([[4321882]], dtype=int32), array([[724546]], dtype=int32), array([[ 13.09638841,  26.69612248,  22.1996835 , ...,  12.94669762,\n",
       "                  13.81617695,   5.84516229],\n",
       "                [ -3.15007078,  -6.86997941,  -4.58036969, ...,   8.30022235,\n",
       "                  12.96974083,   6.33259912],\n",
       "                [ -3.23561283,  -0.98786814,  -0.5717102 , ...,   7.58056283,\n",
       "                   8.84850644,   5.17236025],\n",
       "                ...,\n",
       "                [ 22.09422946,  40.39777095,  25.30873277, ..., -16.30820015,\n",
       "                 -21.11068856, -10.15769597],\n",
       "                [ 13.59688951,  18.81945292,   5.33297034, ..., -20.09199897,\n",
       "                 -22.5341938 , -11.10501087],\n",
       "                [ 10.62128678,  13.13548915,   4.87020119, ..., -21.5385163 ,\n",
       "                 -21.06608766,  -9.9728979 ]]), array([[array(['Right OFC'], dtype='<U9'),\n",
       "                 array(['Right Hippocampus'], dtype='<U17'),\n",
       "                 array(['Right Dorsal Cingulate'], dtype='<U22'),\n",
       "                 array(['Right Insula'], dtype='<U12'),\n",
       "                 array(['Left Hippocampus'], dtype='<U16'),\n",
       "                 array(['Left Dorsal Cingulate'], dtype='<U21'),\n",
       "                 array(['Left Insula'], dtype='<U11')]], dtype=object), array([[     -1,       1,  694794,  741605,       1,       0,       0],\n",
       "                [     -1,       1, 4340538, 4384993,       1,       0,       0],\n",
       "                [     -1,       1, 4579990, 4587589,       1,       0,       0]],\n",
       "               dtype=int32), array([[2]], dtype=uint8), array([[array(['ROF1'], dtype='<U4'),\n",
       "                 array(['RightOFCDepthElectrode1'], dtype='<U23'),\n",
       "                 array(['depth'], dtype='<U5'),\n",
       "                 array(['ctx_rh_G_rectus'], dtype='<U15')],\n",
       "                [array(['ROF2'], dtype='<U4'),\n",
       "                 array(['RightOFCDepthElectrode2'], dtype='<U23'),\n",
       "                 array(['depth'], dtype='<U5'),\n",
       "                 array(['ctx_rh_G_orbital'], dtype='<U16')],\n",
       "                [array(['RH1'], dtype='<U3'),\n",
       "                 array(['RightHippocampusDepthElectrode1'], dtype='<U31'),\n",
       "                 array(['depth'], dtype='<U5'),\n",
       "                 array(['Right-Hippocampus'], dtype='<U17')],\n",
       "                [array(['RH2'], dtype='<U3'),\n",
       "                 array(['RightHippocampusDepthElectrode2'], dtype='<U31'),\n",
       "                 array(['depth'], dtype='<U5'),\n",
       "                 array(['Right-Hippocampus'], dtype='<U17')],\n",
       "                [array(['RH3'], dtype='<U3'),\n",
       "                 array(['RightHippocampusDepthElectrode3'], dtype='<U31'),\n",
       "                 array(['depth'], dtype='<U5'),\n",
       "                 array(['Right-Hippocampus'], dtype='<U17')],\n",
       "                [array(['RH4'], dtype='<U3'),\n",
       "                 array(['RightHippocampusDepthElectrode4'], dtype='<U31'),\n",
       "                 array(['depth'], dtype='<U5'),\n",
       "                 array(['Right-Cerebral-White-Matter'], dtype='<U27')],\n",
       "                [array(['RC1'], dtype='<U3'),\n",
       "                 array(['RightCingulateDepthElectrode1'], dtype='<U29'),\n",
       "                 array(['depth'], dtype='<U5'),\n",
       "                 array(['ctx_rh_G_and_S_cingul-Ant'], dtype='<U25')],\n",
       "                [array(['RC2'], dtype='<U3'),\n",
       "                 array(['RightCingulateDepthElectrode2'], dtype='<U29'),\n",
       "                 array(['depth'], dtype='<U5'),\n",
       "                 array(['ctx_rh_G_and_S_cingul-Mid-Ant'], dtype='<U29')],\n",
       "                [array(['RI1'], dtype='<U3'),\n",
       "                 array(['RightInsulaDepthElectrode1'], dtype='<U26'),\n",
       "                 array(['depth'], dtype='<U5'),\n",
       "                 array(['ctx_rh_G_Ins_lg_and_S_cent_ins'], dtype='<U30')],\n",
       "                [array(['RI2'], dtype='<U3'),\n",
       "                 array(['RightInsulaDepthElectrode2'], dtype='<U26'),\n",
       "                 array(['depth'], dtype='<U5'),\n",
       "                 array(['ctx_rh_G_insular_short'], dtype='<U22')],\n",
       "                [array(['RI3'], dtype='<U3'),\n",
       "                 array(['RightInsulaDepthElectrode3'], dtype='<U26'),\n",
       "                 array(['depth'], dtype='<U5'),\n",
       "                 array(['ctx_rh_G_front_inf-Opercular'], dtype='<U28')],\n",
       "                [array(['LH2'], dtype='<U3'),\n",
       "                 array(['LeftHippocampusDepthElectrode2'], dtype='<U30'),\n",
       "                 array(['depth'], dtype='<U5'),\n",
       "                 array(['Left-Hippocampus'], dtype='<U16')],\n",
       "                [array(['LH3'], dtype='<U3'),\n",
       "                 array(['LeftHippocampusDepthElectrode3'], dtype='<U30'),\n",
       "                 array(['depth'], dtype='<U5'),\n",
       "                 array(['Left-Hippocampus'], dtype='<U16')],\n",
       "                [array(['LC2'], dtype='<U3'),\n",
       "                 array(['LeftCingulateDepthElectrode2'], dtype='<U28'),\n",
       "                 array(['depth'], dtype='<U5'),\n",
       "                 array(['ctx_lh_G_and_S_cingul-Mid-Ant'], dtype='<U29')],\n",
       "                [array(['LI1'], dtype='<U3'),\n",
       "                 array(['LeftInsulaDepthElectrode1'], dtype='<U25'),\n",
       "                 array(['depth'], dtype='<U5'),\n",
       "                 array(['ctx_lh_G_insular_short'], dtype='<U22')],\n",
       "                [array(['LI2'], dtype='<U3'),\n",
       "                 array(['LeftInsulaDepthElectrode2'], dtype='<U25'),\n",
       "                 array(['depth'], dtype='<U5'),\n",
       "                 array(['ctx_lh_G_insular_short'], dtype='<U22')],\n",
       "                [array(['LI3'], dtype='<U3'),\n",
       "                 array(['LeftInsulaDepthElectrode3'], dtype='<U25'),\n",
       "                 array(['depth'], dtype='<U5'),\n",
       "                 array(['ctx_lh_G_front_inf-Opercular'], dtype='<U28')]],\n",
       "               dtype=object), array([[100]], dtype=uint8))                                                                                                                                                                                                                                                                               ]],\n",
       "       dtype=[('Fs', 'O'), ('allRejectedChans', 'O'), ('artifactBufferAfter', 'O'), ('artifactBufferBefore', 'O'), ('artifactEnds', 'O'), ('artifactStarts', 'O'), ('dsFs', 'O'), ('finalVerifiedChanNames', 'O'), ('finalVerifiedRegions', 'O'), ('numVerifiedChans', 'O'), ('patientID', 'O'), ('plotStimEnd', 'O'), ('plotStimStart', 'O'), ('preprocessedStimData', 'O'), ('regionNames', 'O'), ('rejectionTimes', 'O'), ('removeOrReplace', 'O'), ('selectVerifiedAnatomy', 'O'), ('stimFreq', 'O')])}"
      ]
     },
     "execution_count": 6,
     "metadata": {},
     "output_type": "execute_result"
    }
   ],
   "source": [
    "mat"
   ]
  },
  {
   "cell_type": "code",
   "execution_count": 7,
   "metadata": {},
   "outputs": [],
   "source": [
    "var_names = mat[\"data\"].dtype.names"
   ]
  },
  {
   "cell_type": "code",
   "execution_count": 8,
   "metadata": {},
   "outputs": [
    {
     "data": {
      "text/plain": [
       "('Fs',\n",
       " 'allRejectedChans',\n",
       " 'artifactBufferAfter',\n",
       " 'artifactBufferBefore',\n",
       " 'artifactEnds',\n",
       " 'artifactStarts',\n",
       " 'dsFs',\n",
       " 'finalVerifiedChanNames',\n",
       " 'finalVerifiedRegions',\n",
       " 'numVerifiedChans',\n",
       " 'patientID',\n",
       " 'plotStimEnd',\n",
       " 'plotStimStart',\n",
       " 'preprocessedStimData',\n",
       " 'regionNames',\n",
       " 'rejectionTimes',\n",
       " 'removeOrReplace',\n",
       " 'selectVerifiedAnatomy',\n",
       " 'stimFreq')"
      ]
     },
     "execution_count": 8,
     "metadata": {},
     "output_type": "execute_result"
    }
   ],
   "source": [
    "var_names"
   ]
  },
  {
   "cell_type": "code",
   "execution_count": 9,
   "metadata": {},
   "outputs": [],
   "source": [
    "dat = mat[\"data\"][0][0]"
   ]
  },
  {
   "cell_type": "code",
   "execution_count": 10,
   "metadata": {},
   "outputs": [
    {
     "data": {
      "text/plain": [
       "array([[ 10,  16,  29,  30,  46,  69,  71,  72,  74,  75,  76,  77,  79,\n",
       "         82, 108]], dtype=uint8)"
      ]
     },
     "execution_count": 10,
     "metadata": {},
     "output_type": "execute_result"
    }
   ],
   "source": [
    "dat[1]"
   ]
  },
  {
   "cell_type": "code",
   "execution_count": 11,
   "metadata": {},
   "outputs": [
    {
     "data": {
      "text/plain": [
       "array([[100]], dtype=uint8)"
      ]
     },
     "execution_count": 11,
     "metadata": {},
     "output_type": "execute_result"
    }
   ],
   "source": [
    "dat[-1]"
   ]
  },
  {
   "cell_type": "code",
   "execution_count": 12,
   "metadata": {},
   "outputs": [
    {
     "data": {
      "text/plain": [
       "array([array(['ROF1'], dtype='<U4'),\n",
       "       array(['RightOFCDepthElectrode1'], dtype='<U23'),\n",
       "       array(['depth'], dtype='<U5'),\n",
       "       array(['ctx_rh_G_rectus'], dtype='<U15')], dtype=object)"
      ]
     },
     "execution_count": 12,
     "metadata": {},
     "output_type": "execute_result"
    }
   ],
   "source": [
    "dat[-2][0]"
   ]
  },
  {
   "cell_type": "code",
   "execution_count": 13,
   "metadata": {},
   "outputs": [
    {
     "data": {
      "text/plain": [
       "array(['ROF1', 'RightOFCDepthElectrode1', 'depth', 'ctx_rh_G_rectus'],\n",
       "      dtype='<U23')"
      ]
     },
     "execution_count": 13,
     "metadata": {},
     "output_type": "execute_result"
    }
   ],
   "source": [
    "np.concatenate(dat[-2][0])"
   ]
  },
  {
   "cell_type": "code",
   "execution_count": 14,
   "metadata": {},
   "outputs": [],
   "source": [
    "data = dat[-6]"
   ]
  },
  {
   "cell_type": "code",
   "execution_count": 26,
   "metadata": {},
   "outputs": [
    {
     "data": {
      "text/plain": [
       "array([[ True,  True,  True, ...,  True,  True,  True],\n",
       "       [ True,  True,  True, ...,  True,  True,  True],\n",
       "       [ True,  True,  True, ...,  True,  True,  True],\n",
       "       ...,\n",
       "       [ True,  True,  True, ...,  True,  True,  True],\n",
       "       [ True,  True,  True, ...,  True,  True,  True],\n",
       "       [ True,  True,  True, ...,  True,  True,  True]])"
      ]
     },
     "execution_count": 26,
     "metadata": {},
     "output_type": "execute_result"
    }
   ],
   "source": [
    "np.squeeze(data_dict[\"preprocessedStimData\"]) == data_dict[\"preprocessedStimData\"]"
   ]
  },
  {
   "cell_type": "markdown",
   "metadata": {},
   "source": [
    "# Compare with v7.3 numbers"
   ]
  },
  {
   "cell_type": "code",
   "execution_count": 14,
   "metadata": {},
   "outputs": [],
   "source": [
    "import h5py"
   ]
  },
  {
   "cell_type": "code",
   "execution_count": 15,
   "metadata": {},
   "outputs": [],
   "source": [
    "v73fn = \"../OFC_data/EC99_preprocessedDuringContinuous_6mA_Right_FreqBands.mat\"\n",
    "v73dat = h5py.File(v73fn, \"r\")"
   ]
  },
  {
   "cell_type": "code",
   "execution_count": 16,
   "metadata": {},
   "outputs": [],
   "source": [
    "v73data = np.array(dat[\"preprocessedStimData\"])"
   ]
  },
  {
   "cell_type": "code",
   "execution_count": 17,
   "metadata": {},
   "outputs": [
    {
     "data": {
      "text/plain": [
       "0.0"
      ]
     },
     "execution_count": 17,
     "metadata": {},
     "output_type": "execute_result"
    }
   ],
   "source": [
    "np.sum(data - v73data)"
   ]
  },
  {
   "cell_type": "code",
   "execution_count": 18,
   "metadata": {},
   "outputs": [
    {
     "data": {
      "text/plain": [
       "(array([], dtype=int64), array([], dtype=int64))"
      ]
     },
     "execution_count": 18,
     "metadata": {},
     "output_type": "execute_result"
    }
   ],
   "source": [
    "np.where(data != v73data)"
   ]
  },
  {
   "cell_type": "code",
   "execution_count": null,
   "metadata": {},
   "outputs": [],
   "source": []
  }
 ],
 "metadata": {
  "kernelspec": {
   "display_name": "megadetect",
   "language": "python",
   "name": "python3"
  },
  "language_info": {
   "codemirror_mode": {
    "name": "ipython",
    "version": 3
   },
   "file_extension": ".py",
   "mimetype": "text/x-python",
   "name": "python",
   "nbconvert_exporter": "python",
   "pygments_lexer": "ipython3",
   "version": "3.7.12"
  },
  "orig_nbformat": 4
 },
 "nbformat": 4,
 "nbformat_minor": 2
}
