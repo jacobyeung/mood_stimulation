{
 "cells": [
  {
   "cell_type": "code",
   "execution_count": 1,
   "metadata": {},
   "outputs": [],
   "source": [
    "%load_ext autoreload\n",
    "%autoreload 2"
   ]
  },
  {
   "cell_type": "code",
   "execution_count": 4,
   "metadata": {},
   "outputs": [],
   "source": [
    "import pickle as pkl\n",
    "import numpy as np\n",
    "import matplotlib.pyplot as plt\n",
    "import os\n",
    "import glob"
   ]
  },
  {
   "cell_type": "code",
   "execution_count": 43,
   "metadata": {},
   "outputs": [
    {
     "data": {
      "text/plain": [
       "'../OFC_data/v7_EC142_TimeAveragedSpectraPower_6mA_FreqBands.pkl'"
      ]
     },
     "execution_count": 43,
     "metadata": {},
     "output_type": "execute_result"
    }
   ],
   "source": [
    "file_names = glob.glob(\"../OFC_data/v7*Spectra*mA_Freq*.pkl\")\n",
    "IMG_DIR = \"./images/dataset_summary_statistics\"\n",
    "os.makedirs(IMG_DIR, exist_ok=True)\n",
    "file_names[0]"
   ]
  },
  {
   "cell_type": "code",
   "execution_count": 15,
   "metadata": {},
   "outputs": [
    {
     "data": {
      "text/plain": [
       "['../OFC_data/v7_EC142_TimeAveragedSpectraPower_6mA_FreqBands.pkl',\n",
       " '../OFC_data/v7_EC129_TimeAveragedSpectraPower_6mA_FreqBands.pkl',\n",
       " '../OFC_data/v7_EC105_TimeAveragedSpectraPower_6mA_FreqBands.pkl',\n",
       " '../OFC_data/v7_EC105_TimeAveragedSpectraPower_1mA_FreqBands.pkl',\n",
       " '../OFC_data/v7_EC137_TimeAveragedSpectraPower_6mA_FreqBands.pkl',\n",
       " '../OFC_data/v7_EC137_TimeAveragedSpectraPower_1mA_FreqBands.pkl',\n",
       " '../OFC_data/v7_EC133_TimeAveragedSpectraPower_6mA_FreqBands.pkl',\n",
       " '../OFC_data/v7_EC152_TimeAveragedSpectraPower_1mA_FreqBands.pkl',\n",
       " '../OFC_data/v7_EC108_TimeAveragedSpectraPower_6mA_FreqBands.pkl',\n",
       " '../OFC_data/v7_EC108_TimeAveragedSpectraPower_1mA_FreqBands.pkl',\n",
       " '../OFC_data/v7_EC133_TimeAveragedSpectraPower_1mA_FreqBands.pkl',\n",
       " '../OFC_data/v7_EC125_TimeAveragedSpectraPower_6mA_FreqBands.pkl',\n",
       " '../OFC_data/v7_EC125_TimeAveragedSpectraPower_1mA_FreqBands.pkl',\n",
       " '../OFC_data/v7_EC153_TimeAveragedSpectraPower_6mA_FreqBands.pkl',\n",
       " '../OFC_data/v7_EC151_TimeAveragedSpectraPower_1mA_FreqBands.pkl']"
      ]
     },
     "execution_count": 15,
     "metadata": {},
     "output_type": "execute_result"
    }
   ],
   "source": [
    "file_names"
   ]
  },
  {
   "cell_type": "code",
   "execution_count": 50,
   "metadata": {},
   "outputs": [],
   "source": [
    "data = {\n",
    "    \"power_dim\": [],\n",
    "    \"time_steps\": [],\n",
    "    \"stim_start\": [],\n",
    "    \"stim_end\": [],\n",
    "    \"stim_steps\": [],\n",
    "    \"stim_steps_ratio\": [],\n",
    "}\n",
    "for fi in file_names:\n",
    "    with open(f\"{fi}\", \"rb\") as f:\n",
    "        curr = np.load(f, allow_pickle=True).item()\n",
    "        curr_pow = curr[\"power_stim\"]\n",
    "        data[\"power_dim\"].append(curr_pow.shape[0])\n",
    "        data[\"time_steps\"].append(curr_pow.shape[2])\n",
    "        data[\"stim_start\"].append(int(1.0 * curr[\"stimStartSample\"]))\n",
    "        data[\"stim_end\"].append(int(1.0 * curr[\"stimEndSample\"]))\n",
    "        data[\"stim_steps\"].append(data[\"stim_end\"][-1] - data[\"stim_start\"][-1])\n",
    "        data[\"stim_steps_ratio\"].append(data[\"stim_steps\"] / data[\"time_steps\"])"
   ]
  },
  {
   "cell_type": "code",
   "execution_count": 55,
   "metadata": {},
   "outputs": [],
   "source": [
    "data[\"stim_steps_ratio\"] = []\n",
    "for i in range(len(data[\"power_dim\"])):\n",
    "    data[\"stim_steps_ratio\"] = data[\"stim_steps\"][i] / data[\"time_steps\"][i]"
   ]
  },
  {
   "cell_type": "code",
   "execution_count": 62,
   "metadata": {},
   "outputs": [
    {
     "name": "stdout",
     "output_type": "stream",
     "text": [
      "Ratio stim / total: 0.746\n"
     ]
    }
   ],
   "source": [
    "print(f\"Ratio stim / total: {np.round(data['stim_steps_ratio'], 3)}\")"
   ]
  },
  {
   "cell_type": "code",
   "execution_count": 52,
   "metadata": {},
   "outputs": [
    {
     "data": {
      "text/plain": [
       "([12, 8, 18, 20, 17, 17, 42, 8, 8, 8, 60, 17, 19, 16, 6], 15)"
      ]
     },
     "execution_count": 52,
     "metadata": {},
     "output_type": "execute_result"
    }
   ],
   "source": [
    "data[\"power_dim\"], len(data[\"power_dim\"])"
   ]
  },
  {
   "cell_type": "code",
   "execution_count": 46,
   "metadata": {},
   "outputs": [
    {
     "data": {
      "image/png": "[encoded data removed]",
      "text/plain": [
       "<Figure size 432x288 with 1 Axes>"
      ]
     },
     "metadata": {
      "needs_background": "light"
     },
     "output_type": "display_data"
    }
   ],
   "source": [
    "fig, ax = plt.subplots()\n",
    "ax.hist(data[\"power_dim\"])\n",
    "ax.set_xlabel(\"Number of electrodes\")\n",
    "title = \"Histogram of number of electrodes\"\n",
    "fig.suptitle(title)\n",
    "fig.savefig(\n",
    "    f\"{IMG_DIR}/{title.replace(' ', '_')}.png\", transparent=False, facecolor=\"white\"\n",
    ")"
   ]
  },
  {
   "cell_type": "code",
   "execution_count": 47,
   "metadata": {},
   "outputs": [
    {
     "data": {
      "image/png": "[encoded data removed]",
      "text/plain": [
       "<Figure size 432x288 with 1 Axes>"
      ]
     },
     "metadata": {
      "needs_background": "light"
     },
     "output_type": "display_data"
    }
   ],
   "source": [
    "fig, ax = plt.subplots()\n",
    "ax.hist(data[\"time_steps\"])\n",
    "ax.set_xlabel(\"Number of time steps\")\n",
    "ax.set_yticks(np.arange(1, 5))\n",
    "title = \"Histogram of number of time steps\"\n",
    "fig.suptitle(title)\n",
    "fig.savefig(\n",
    "    f\"{IMG_DIR}/{title.replace(' ', '_')}.png\", transparent=False, facecolor=\"white\"\n",
    ")"
   ]
  },
  {
   "cell_type": "code",
   "execution_count": 54,
   "metadata": {},
   "outputs": [
    {
     "data": {
      "image/png": "[encoded data removed]",
      "text/plain": [
       "<Figure size 432x288 with 1 Axes>"
      ]
     },
     "metadata": {
      "needs_background": "light"
     },
     "output_type": "display_data"
    }
   ],
   "source": [
    "fig, ax = plt.subplots()\n",
    "ax.hist(data[\"stim_steps\"])\n",
    "ax.set_xlabel(\"Number of stimulation time steps\")\n",
    "ax.set_yticks(np.arange(1, 6))\n",
    "title = \"Histogram of number of stimulation time steps\"\n",
    "fig.suptitle(title)\n",
    "fig.savefig(\n",
    "    f\"{IMG_DIR}/{title.replace(' ', '_')}.png\", transparent=False, facecolor=\"white\"\n",
    ")"
   ]
  },
  {
   "cell_type": "code",
   "execution_count": 35,
   "metadata": {},
   "outputs": [
    {
     "name": "stdout",
     "output_type": "stream",
     "text": [
      "Range of freq bins: [6, 60]\n",
      "Average of freq bins:  18.4\n",
      "Range of time steps: [32064, 285635]\n",
      "Average of time steps:  150509\n",
      "Num data files: 15\n"
     ]
    }
   ],
   "source": [
    "print(f\"Range of freq bins: [{np.min(data['power_dim'])}, {np.max(data['power_dim'])}]\")\n",
    "print(\"Average of freq bins: \", np.mean(data[\"power_dim\"]))\n",
    "print(\n",
    "    f\"Range of time steps: [{np.min(data['time_steps'])}, {np.max(data['time_steps'])}]\"\n",
    ")\n",
    "print(\"Average of time steps: \", int(np.mean(data[\"time_steps\"])))\n",
    "print(f\"Num data files: {len(data['power_dim'])}\")"
   ]
  },
  {
   "cell_type": "code",
   "execution_count": null,
   "metadata": {},
   "outputs": [],
   "source": []
  }
 ],
 "metadata": {
  "kernelspec": {
   "display_name": "Python 3",
   "language": "python",
   "name": "python3"
  },
  "language_info": {
   "codemirror_mode": {
    "name": "ipython",
    "version": 3
   },
   "file_extension": ".py",
   "mimetype": "text/x-python",
   "name": "python",
   "nbconvert_exporter": "python",
   "pygments_lexer": "ipython3",
   "version": "3.7.12"
  },
  "orig_nbformat": 4
 },
 "nbformat": 4,
 "nbformat_minor": 2
}
