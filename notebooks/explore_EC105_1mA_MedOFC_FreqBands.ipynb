{
 "cells": [
  {
   "cell_type": "code",
   "execution_count": 1,
   "metadata": {},
   "outputs": [],
   "source": [
    "import numpy as np\n",
    "import h5py\n",
    "import matplotlib.pyplot as plt"
   ]
  },
  {
   "cell_type": "code",
   "execution_count": 112,
   "metadata": {},
   "outputs": [],
   "source": [
    "fn = '../OFC_data/EC99_preprocessedDuringContinuous_6mA_Right_FreqBands.mat'\n",
    "dat = h5py.File(fn, 'r')"
   ]
  },
  {
   "cell_type": "code",
   "execution_count": 91,
   "metadata": {},
   "outputs": [
    {
     "name": "stdout",
     "output_type": "stream",
     "text": [
      "\n",
      "Keys of datasets:\n",
      "#refs#\n",
      "Fs\n",
      "allRejectedChans\n",
      "artifactBufferAfter\n",
      "artifactBufferBefore\n",
      "artifactEnds\n",
      "artifactStarts\n",
      "dsFs\n",
      "finalVerifiedChanNames\n",
      "finalVerifiedRegions\n",
      "numVerifiedChans\n",
      "patientID\n",
      "plotStimEnd\n",
      "plotStimStart\n",
      "preprocessedStimData\n",
      "regionNames\n",
      "rejectionTimes\n",
      "removeOrReplace\n",
      "selectVerifiedAnatomy\n",
      "stimFreq\n"
     ]
    }
   ],
   "source": [
    "# # Print keys of groups\n",
    "# print(\"Keys of groups:\")\n",
    "# group_keys = list(dat.keys())\n",
    "# print('\\n'.join(group_keys))\n",
    "\n",
    "# Print keys of datasets\n",
    "print(\"\\nKeys of datasets:\")\n",
    "dataset_keys = [name for name in dat]\n",
    "print('\\n'.join(dataset_keys))"
   ]
  },
  {
   "cell_type": "code",
   "execution_count": 4,
   "metadata": {},
   "outputs": [
    {
     "data": {
      "text/plain": [
       "81"
      ]
     },
     "execution_count": 4,
     "metadata": {},
     "output_type": "execute_result"
    }
   ],
   "source": [
    "len(['OFG1','OFG2','OFG3','OFG4','OFG5','OFG6','OFG7',\n",
    "            'OFG8','OFG9','OFG10','OFG11','OFG12','OFG13','OFG14','OFG15',\n",
    "            'OFG16','OFG17','OFG18','OFG19','OFG20','OFG21','OFG22','OFG23',\n",
    "            'OFG24','OFG25','OFG26','OFG27','OFG28','OFG29','OFG30','OFG31',\n",
    "            'OFG32','OFG33','OFG34','OFG35','OFG36','OFG37','OFG38','OFG39',\n",
    "            'OFG40','OFG41','OFG42','OFG43','OFG44','OFG45','OFG46','OFG47',\n",
    "            'OFG48','OFG49','OFG50','OFG51','OFG52','OFG53','OFG54','OFG55',\n",
    "            'OFG56','OFG57','OFG58','OFG59','OFG60','OFG61','OFG62','OFG63',\n",
    "            'OFG64','AD1','AD2','AD3','AD4','AD5','AD6','HD1','HD2','HD3',\n",
    "            'HD4','CD3','CD4','ID1','ID2','ID3','ID4','ID5'])"
   ]
  },
  {
   "cell_type": "code",
   "execution_count": 103,
   "metadata": {},
   "outputs": [],
   "source": [
    "selectVerifiedAnatomy = dat['selectVerifiedAnatomy']\n",
    "# selectVerifiedAnatomy = [h5py.h5r.get_name(selectVerifiedAnatomy[i][0], dat.id) for i in range(len(selectVerifiedAnatomy))]\n",
    "# selectVerifiedAnatomy = [dat[i][:] for i in selectVerifiedAnatomy]"
   ]
  },
  {
   "cell_type": "code",
   "execution_count": 106,
   "metadata": {},
   "outputs": [
    {
     "data": {
      "text/plain": [
       "<HDF5 dataset \"selectVerifiedAnatomy\": shape (4, 17), type \"|O\">"
      ]
     },
     "execution_count": 106,
     "metadata": {},
     "output_type": "execute_result"
    }
   ],
   "source": [
    "selectVerifiedAnatomy"
   ]
  },
  {
   "cell_type": "code",
   "execution_count": 94,
   "metadata": {},
   "outputs": [
    {
     "data": {
      "text/plain": [
       "4"
      ]
     },
     "execution_count": 94,
     "metadata": {},
     "output_type": "execute_result"
    }
   ],
   "source": [
    "len(selectVerifiedAnatomy)"
   ]
  },
  {
   "cell_type": "code",
   "execution_count": 109,
   "metadata": {},
   "outputs": [],
   "source": [
    "chanNames = dat['finalVerifiedChanNames']\n",
    "chanNames_refname = [h5py.h5r.get_name(chanNames[i][0], dat.id) for i in range(len(chanNames))]"
   ]
  },
  {
   "cell_type": "code",
   "execution_count": 116,
   "metadata": {},
   "outputs": [
    {
     "data": {
      "text/plain": [
       "[b'/#refs#/b',\n",
       " b'/#refs#/c',\n",
       " b'/#refs#/d',\n",
       " b'/#refs#/e',\n",
       " b'/#refs#/f',\n",
       " b'/#refs#/g',\n",
       " b'/#refs#/h',\n",
       " b'/#refs#/i',\n",
       " b'/#refs#/j',\n",
       " b'/#refs#/k',\n",
       " b'/#refs#/l',\n",
       " b'/#refs#/m',\n",
       " b'/#refs#/n',\n",
       " b'/#refs#/o',\n",
       " b'/#refs#/p',\n",
       " b'/#refs#/q',\n",
       " b'/#refs#/r']"
      ]
     },
     "execution_count": 116,
     "metadata": {},
     "output_type": "execute_result"
    }
   ],
   "source": [
    "chanNames_refname"
   ]
  },
  {
   "cell_type": "code",
   "execution_count": 96,
   "metadata": {},
   "outputs": [],
   "source": [
    "total_chanNames = [dat[i][:] for i in chanNames_refname]\n",
    "# total_chanNames = np.unique(total_chanNames)\n",
    "# print(total_chanNames), len(total_chanNames)"
   ]
  },
  {
   "cell_type": "code",
   "execution_count": 117,
   "metadata": {},
   "outputs": [
    {
     "data": {
      "text/plain": [
       "<HDF5 dataset \"b\": shape (4, 1), type \"<u2\">"
      ]
     },
     "execution_count": 117,
     "metadata": {},
     "output_type": "execute_result"
    }
   ],
   "source": [
    "dat[chanNames_refname[0]]"
   ]
  },
  {
   "cell_type": "code",
   "execution_count": 120,
   "metadata": {},
   "outputs": [
    {
     "data": {
      "text/plain": [
       "['ROF1',\n",
       " 'ROF2',\n",
       " 'RH1',\n",
       " 'RH2',\n",
       " 'RH3',\n",
       " 'RH4',\n",
       " 'RC1',\n",
       " 'RC2',\n",
       " 'RI1',\n",
       " 'RI2',\n",
       " 'RI3',\n",
       " 'LH2',\n",
       " 'LH3',\n",
       " 'LC2',\n",
       " 'LI1',\n",
       " 'LI2',\n",
       " 'LI3']"
      ]
     },
     "execution_count": 120,
     "metadata": {},
     "output_type": "execute_result"
    }
   ],
   "source": [
    "[u''.join(chr(c) for c in dat[obj_ref]) for obj_ref in chanNames_refname]"
   ]
  },
  {
   "cell_type": "code",
   "execution_count": 113,
   "metadata": {},
   "outputs": [
    {
     "data": {
      "text/plain": [
       "(17,)"
      ]
     },
     "execution_count": 113,
     "metadata": {},
     "output_type": "execute_result"
    }
   ],
   "source": [
    "len(total_chanNames), #total_chanNames"
   ]
  },
  {
   "cell_type": "code",
   "execution_count": 51,
   "metadata": {},
   "outputs": [],
   "source": [
    "names = dat['regionNames']\n",
    "names_refname = [h5py.h5r.get_name(names[i][0], dat.id) for i in range(len(names))]"
   ]
  },
  {
   "cell_type": "code",
   "execution_count": 42,
   "metadata": {},
   "outputs": [
    {
     "data": {
      "text/plain": [
       "[b'/#refs#/w', b'/#refs#/x', b'/#refs#/y', b'/#refs#/z', b'/#refs#/A']"
      ]
     },
     "execution_count": 42,
     "metadata": {},
     "output_type": "execute_result"
    }
   ],
   "source": [
    "names_refname"
   ]
  },
  {
   "cell_type": "code",
   "execution_count": 64,
   "metadata": {},
   "outputs": [
    {
     "data": {
      "text/plain": [
       "((24,), 24)"
      ]
     },
     "execution_count": 64,
     "metadata": {},
     "output_type": "execute_result"
    }
   ],
   "source": [
    "total_names = np.concatenate([dat[i][:] for i in names_refname])\n",
    "total_names = np.unique(total_names)\n",
    "total_names.shape, len(total_names)"
   ]
  },
  {
   "cell_type": "code",
   "execution_count": 60,
   "metadata": {},
   "outputs": [
    {
     "data": {
      "text/plain": [
       "array([21.])"
      ]
     },
     "execution_count": 60,
     "metadata": {},
     "output_type": "execute_result"
    }
   ],
   "source": [
    "numVerified = dat['numVerifiedChans']\n",
    "numVerified[0]"
   ]
  },
  {
   "cell_type": "code",
   "execution_count": 100,
   "metadata": {},
   "outputs": [
    {
     "data": {
      "text/plain": [
       "(194565, 17)"
      ]
     },
     "execution_count": 100,
     "metadata": {},
     "output_type": "execute_result"
    }
   ],
   "source": [
    "data = np.array(dat['preprocessedStimData'])\n",
    "data.shape"
   ]
  },
  {
   "cell_type": "code",
   "execution_count": 101,
   "metadata": {},
   "outputs": [
    {
     "data": {
      "text/plain": [
       "<matplotlib.lines.Line2D at 0x7fdaca9c2710>"
      ]
     },
     "execution_count": 101,
     "metadata": {},
     "output_type": "execute_result"
    },
    {
     "data": {
      "image/png": "[encoded data removed]",
      "text/plain": [
       "<Figure size 432x288 with 1 Axes>"
      ]
     },
     "metadata": {
      "needs_background": "light"
     },
     "output_type": "display_data"
    }
   ],
   "source": [
    "for i in range(data.shape[-1]):\n",
    "    plt.plot(data[:, i])\n",
    "plt.axvline(dat['plotStimStart'][:][0][0] * 512 / 16384, color='red')\n",
    "plt.axvline(dat['plotStimEnd'][:][0][0] * 512 / 16384, color='red')"
   ]
  },
  {
   "cell_type": "code",
   "execution_count": 72,
   "metadata": {},
   "outputs": [
    {
     "data": {
      "text/plain": [
       "(array([[456642.]]), array([[2153093.]]))"
      ]
     },
     "execution_count": 72,
     "metadata": {},
     "output_type": "execute_result"
    }
   ],
   "source": [
    "dat['plotStimStart'][:], dat['plotStimEnd'][:]"
   ]
  },
  {
   "cell_type": "code",
   "execution_count": null,
   "metadata": {},
   "outputs": [],
   "source": []
  }
 ],
 "metadata": {
  "kernelspec": {
   "display_name": "Python 3",
   "language": "python",
   "name": "python3"
  },
  "language_info": {
   "codemirror_mode": {
    "name": "ipython",
    "version": 3
   },
   "file_extension": ".py",
   "mimetype": "text/x-python",
   "name": "python",
   "nbconvert_exporter": "python",
   "pygments_lexer": "ipython3",
   "version": "3.7.12"
  },
  "orig_nbformat": 4
 },
 "nbformat": 4,
 "nbformat_minor": 2
}
