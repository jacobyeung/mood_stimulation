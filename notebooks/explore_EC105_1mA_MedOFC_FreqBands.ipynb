{
 "cells": [
  {
   "cell_type": "code",
   "execution_count": 38,
   "metadata": {},
   "outputs": [],
   "source": [
    "import numpy as np\n",
    "import h5py\n",
    "import matplotlib.pyplot as plt"
   ]
  },
  {
   "cell_type": "code",
   "execution_count": 26,
   "metadata": {},
   "outputs": [],
   "source": [
    "dat = h5py.File('../OFC_data/EC105_preprocessedDuringContinuous_1mA_MedOFC_FreqBands.mat', 'r')"
   ]
  },
  {
   "cell_type": "code",
   "execution_count": 27,
   "metadata": {},
   "outputs": [
    {
     "name": "stdout",
     "output_type": "stream",
     "text": [
      "\n",
      "Keys of datasets:\n",
      "#refs#\n",
      "Fs\n",
      "allRejectedChans\n",
      "artifactBufferAfter\n",
      "artifactBufferBefore\n",
      "artifactEnds\n",
      "artifactStarts\n",
      "dsFs\n",
      "finalVerifiedChanNames\n",
      "finalVerifiedRegions\n",
      "numVerifiedChans\n",
      "patientID\n",
      "plotStimEnd\n",
      "plotStimStart\n",
      "preprocessedStimData\n",
      "regionNames\n",
      "rejectionTimes\n",
      "removeOrReplace\n",
      "selectVerifiedAnatomy\n",
      "stimFreq\n"
     ]
    }
   ],
   "source": [
    "# # Print keys of groups\n",
    "# print(\"Keys of groups:\")\n",
    "# group_keys = list(dat.keys())\n",
    "# print('\\n'.join(group_keys))\n",
    "\n",
    "# Print keys of datasets\n",
    "print(\"\\nKeys of datasets:\")\n",
    "dataset_keys = [name for name in dat]\n",
    "print('\\n'.join(dataset_keys))"
   ]
  },
  {
   "cell_type": "code",
   "execution_count": 41,
   "metadata": {},
   "outputs": [
    {
     "data": {
      "text/plain": [
       "81"
      ]
     },
     "execution_count": 41,
     "metadata": {},
     "output_type": "execute_result"
    }
   ],
   "source": [
    "len(['OFG1','OFG2','OFG3','OFG4','OFG5','OFG6','OFG7',\n",
    "            'OFG8','OFG9','OFG10','OFG11','OFG12','OFG13','OFG14','OFG15',\n",
    "            'OFG16','OFG17','OFG18','OFG19','OFG20','OFG21','OFG22','OFG23',\n",
    "            'OFG24','OFG25','OFG26','OFG27','OFG28','OFG29','OFG30','OFG31',\n",
    "            'OFG32','OFG33','OFG34','OFG35','OFG36','OFG37','OFG38','OFG39',\n",
    "            'OFG40','OFG41','OFG42','OFG43','OFG44','OFG45','OFG46','OFG47',\n",
    "            'OFG48','OFG49','OFG50','OFG51','OFG52','OFG53','OFG54','OFG55',\n",
    "            'OFG56','OFG57','OFG58','OFG59','OFG60','OFG61','OFG62','OFG63',\n",
    "            'OFG64','AD1','AD2','AD3','AD4','AD5','AD6','HD1','HD2','HD3',\n",
    "            'HD4','CD3','CD4','ID1','ID2','ID3','ID4','ID5'])"
   ]
  },
  {
   "cell_type": "code",
   "execution_count": 46,
   "metadata": {},
   "outputs": [
    {
     "data": {
      "text/plain": [
       "[array([<HDF5 object reference>], dtype=object),\n",
       " array([<HDF5 object reference>], dtype=object),\n",
       " array([<HDF5 object reference>], dtype=object),\n",
       " array([<HDF5 object reference>], dtype=object),\n",
       " array([<HDF5 object reference>], dtype=object)]"
      ]
     },
     "execution_count": 46,
     "metadata": {},
     "output_type": "execute_result"
    }
   ],
   "source": [
    "names = list(dat['regionNames'])"
   ]
  },
  {
   "cell_type": "code",
   "execution_count": 56,
   "metadata": {},
   "outputs": [
    {
     "data": {
      "text/plain": [
       "array([<HDF5 object reference>], dtype=object)"
      ]
     },
     "execution_count": 56,
     "metadata": {},
     "output_type": "execute_result"
    }
   ],
   "source": [
    "names[0]"
   ]
  },
  {
   "cell_type": "markdown",
   "metadata": {},
   "source": []
  },
  {
   "cell_type": "code",
   "execution_count": null,
   "metadata": {},
   "outputs": [],
   "source": []
  },
  {
   "cell_type": "code",
   "execution_count": 60,
   "metadata": {},
   "outputs": [
    {
     "data": {
      "text/plain": [
       "array([21.])"
      ]
     },
     "execution_count": 60,
     "metadata": {},
     "output_type": "execute_result"
    }
   ],
   "source": [
    "numVerified = dat['numVerifiedChans']\n",
    "numVerified[0]"
   ]
  },
  {
   "cell_type": "code",
   "execution_count": 37,
   "metadata": {},
   "outputs": [
    {
     "data": {
      "text/plain": [
       "(130059, 21)"
      ]
     },
     "execution_count": 37,
     "metadata": {},
     "output_type": "execute_result"
    }
   ],
   "source": [
    "data = np.array(dat['preprocessedStimData'])\n",
    "data.shape"
   ]
  },
  {
   "cell_type": "code",
   "execution_count": 39,
   "metadata": {},
   "outputs": [
    {
     "data": {
      "image/png": "[encoded data removed]",
      "text/plain": [
       "<Figure size 432x288 with 1 Axes>"
      ]
     },
     "metadata": {
      "needs_background": "light"
     },
     "output_type": "display_data"
    }
   ],
   "source": [
    "for i in range(data.shape[-1]):\n",
    "    plt.plot(data[:, i])"
   ]
  },
  {
   "cell_type": "code",
   "execution_count": null,
   "metadata": {},
   "outputs": [],
   "source": []
  }
 ],
 "metadata": {
  "kernelspec": {
   "display_name": "Python 3",
   "language": "python",
   "name": "python3"
  },
  "language_info": {
   "codemirror_mode": {
    "name": "ipython",
    "version": 3
   },
   "file_extension": ".py",
   "mimetype": "text/x-python",
   "name": "python",
   "nbconvert_exporter": "python",
   "pygments_lexer": "ipython3",
   "version": "3.7.1"
  },
  "orig_nbformat": 4
 },
 "nbformat": 4,
 "nbformat_minor": 2
}
