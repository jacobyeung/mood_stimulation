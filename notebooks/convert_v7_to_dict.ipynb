{
 "cells": [
  {
   "cell_type": "code",
   "execution_count": 69,
   "metadata": {},
   "outputs": [],
   "source": [
    "import numpy as np\n",
    "from scipy.io import loadmat"
   ]
  },
  {
   "cell_type": "code",
   "execution_count": 70,
   "metadata": {},
   "outputs": [],
   "source": [
    "fn = \"../OFC_data/v7_EC99_preprocessedDuringContinuous_6mA_Right_FreqBands.mat\"\n",
    "mat = loadmat(fn)"
   ]
  },
  {
   "cell_type": "code",
   "execution_count": 71,
   "metadata": {},
   "outputs": [
    {
     "data": {
      "text/plain": [
       "dict_keys(['__header__', '__version__', '__globals__', 'mat_data'])"
      ]
     },
     "execution_count": 71,
     "metadata": {},
     "output_type": "execute_result"
    }
   ],
   "source": [
    "mat.keys()"
   ]
  },
  {
   "cell_type": "code",
   "execution_count": 72,
   "metadata": {},
   "outputs": [
    {
     "data": {
      "text/plain": [
       "19"
      ]
     },
     "execution_count": 72,
     "metadata": {},
     "output_type": "execute_result"
    }
   ],
   "source": [
    "len(mat[\"mat_data\"][0][0])"
   ]
  },
  {
   "cell_type": "code",
   "execution_count": 5,
   "metadata": {},
   "outputs": [],
   "source": [
    "var_names = mat[\"data\"].dtype.names"
   ]
  },
  {
   "cell_type": "code",
   "execution_count": 6,
   "metadata": {},
   "outputs": [],
   "source": [
    "dat = mat[\"data\"][0][0]"
   ]
  },
  {
   "cell_type": "code",
   "execution_count": 7,
   "metadata": {},
   "outputs": [],
   "source": [
    "data_dict = {var_names[i]: dat[i] for i in range(len(var_names))}"
   ]
  },
  {
   "cell_type": "code",
   "execution_count": null,
   "metadata": {},
   "outputs": [
    {
     "data": {
      "text/plain": [
       "{'Fs': array([[16384]], dtype=uint16),\n",
       " 'allRejectedChans': array([[ 10,  16,  29,  30,  46,  69,  71,  72,  74,  75,  76,  77,  79,\n",
       "          82, 108]], dtype=uint8),\n",
       " 'artifactBufferAfter': array([[33]], dtype=uint8),\n",
       " 'artifactBufferBefore': array([[14]], dtype=uint8),\n",
       " 'artifactEnds': array([[ 709703,  709868,  710032, ..., 4354320, 4354484, 4354649]],\n",
       "       dtype=int32),\n",
       " 'artifactStarts': array([[ 709656,  709821,  709985, ..., 4354273, 4354437, 4354602]],\n",
       "       dtype=int32),\n",
       " 'dsFs': array([[512]], dtype=uint16),\n",
       " 'finalVerifiedChanNames': array([[array(['ROF1'], dtype='<U4'), array(['ROF2'], dtype='<U4'),\n",
       "         array(['RH1'], dtype='<U3'), array(['RH2'], dtype='<U3'),\n",
       "         array(['RH3'], dtype='<U3'), array(['RH4'], dtype='<U3'),\n",
       "         array(['RC1'], dtype='<U3'), array(['RC2'], dtype='<U3'),\n",
       "         array(['RI1'], dtype='<U3'), array(['RI2'], dtype='<U3'),\n",
       "         array(['RI3'], dtype='<U3'), array(['LH2'], dtype='<U3'),\n",
       "         array(['LH3'], dtype='<U3'), array(['LC2'], dtype='<U3'),\n",
       "         array(['LI1'], dtype='<U3'), array(['LI2'], dtype='<U3'),\n",
       "         array(['LI3'], dtype='<U3')]], dtype=object),\n",
       " 'finalVerifiedRegions': array([[1, 1, 2, 2, 2, 2, 3, 3, 4, 4, 4, 5, 5, 6, 7, 7, 7]], dtype=uint8),\n",
       " 'numVerifiedChans': array([[17]], dtype=uint8),\n",
       " 'patientID': array(['EC99'], dtype='<U4'),\n",
       " 'plotStimEnd': array([[4321882]], dtype=int32),\n",
       " 'plotStimStart': array([[724546]], dtype=int32),\n",
       " 'preprocessedStimData': array([[ 13.09638841,  26.69612248,  22.1996835 , ...,  12.94669762,\n",
       "          13.81617695,   5.84516229],\n",
       "        [ -3.15007078,  -6.86997941,  -4.58036969, ...,   8.30022235,\n",
       "          12.96974083,   6.33259912],\n",
       "        [ -3.23561283,  -0.98786814,  -0.5717102 , ...,   7.58056283,\n",
       "           8.84850644,   5.17236025],\n",
       "        ...,\n",
       "        [ 22.09422946,  40.39777095,  25.30873277, ..., -16.30820015,\n",
       "         -21.11068856, -10.15769597],\n",
       "        [ 13.59688951,  18.81945292,   5.33297034, ..., -20.09199897,\n",
       "         -22.5341938 , -11.10501087],\n",
       "        [ 10.62128678,  13.13548915,   4.87020119, ..., -21.5385163 ,\n",
       "         -21.06608766,  -9.9728979 ]]),\n",
       " 'regionNames': array([[array(['Right OFC'], dtype='<U9'),\n",
       "         array(['Right Hippocampus'], dtype='<U17'),\n",
       "         array(['Right Dorsal Cingulate'], dtype='<U22'),\n",
       "         array(['Right Insula'], dtype='<U12'),\n",
       "         array(['Left Hippocampus'], dtype='<U16'),\n",
       "         array(['Left Dorsal Cingulate'], dtype='<U21'),\n",
       "         array(['Left Insula'], dtype='<U11')]], dtype=object),\n",
       " 'rejectionTimes': array([[     -1,       1,  694794,  741605,       1,       0,       0],\n",
       "        [     -1,       1, 4340538, 4384993,       1,       0,       0],\n",
       "        [     -1,       1, 4579990, 4587589,       1,       0,       0]],\n",
       "       dtype=int32),\n",
       " 'removeOrReplace': array([[2]], dtype=uint8),\n",
       " 'selectVerifiedAnatomy': array([[array(['ROF1'], dtype='<U4'),\n",
       "         array(['RightOFCDepthElectrode1'], dtype='<U23'),\n",
       "         array(['depth'], dtype='<U5'),\n",
       "         array(['ctx_rh_G_rectus'], dtype='<U15')],\n",
       "        [array(['ROF2'], dtype='<U4'),\n",
       "         array(['RightOFCDepthElectrode2'], dtype='<U23'),\n",
       "         array(['depth'], dtype='<U5'),\n",
       "         array(['ctx_rh_G_orbital'], dtype='<U16')],\n",
       "        [array(['RH1'], dtype='<U3'),\n",
       "         array(['RightHippocampusDepthElectrode1'], dtype='<U31'),\n",
       "         array(['depth'], dtype='<U5'),\n",
       "         array(['Right-Hippocampus'], dtype='<U17')],\n",
       "        [array(['RH2'], dtype='<U3'),\n",
       "         array(['RightHippocampusDepthElectrode2'], dtype='<U31'),\n",
       "         array(['depth'], dtype='<U5'),\n",
       "         array(['Right-Hippocampus'], dtype='<U17')],\n",
       "        [array(['RH3'], dtype='<U3'),\n",
       "         array(['RightHippocampusDepthElectrode3'], dtype='<U31'),\n",
       "         array(['depth'], dtype='<U5'),\n",
       "         array(['Right-Hippocampus'], dtype='<U17')],\n",
       "        [array(['RH4'], dtype='<U3'),\n",
       "         array(['RightHippocampusDepthElectrode4'], dtype='<U31'),\n",
       "         array(['depth'], dtype='<U5'),\n",
       "         array(['Right-Cerebral-White-Matter'], dtype='<U27')],\n",
       "        [array(['RC1'], dtype='<U3'),\n",
       "         array(['RightCingulateDepthElectrode1'], dtype='<U29'),\n",
       "         array(['depth'], dtype='<U5'),\n",
       "         array(['ctx_rh_G_and_S_cingul-Ant'], dtype='<U25')],\n",
       "        [array(['RC2'], dtype='<U3'),\n",
       "         array(['RightCingulateDepthElectrode2'], dtype='<U29'),\n",
       "         array(['depth'], dtype='<U5'),\n",
       "         array(['ctx_rh_G_and_S_cingul-Mid-Ant'], dtype='<U29')],\n",
       "        [array(['RI1'], dtype='<U3'),\n",
       "         array(['RightInsulaDepthElectrode1'], dtype='<U26'),\n",
       "         array(['depth'], dtype='<U5'),\n",
       "         array(['ctx_rh_G_Ins_lg_and_S_cent_ins'], dtype='<U30')],\n",
       "        [array(['RI2'], dtype='<U3'),\n",
       "         array(['RightInsulaDepthElectrode2'], dtype='<U26'),\n",
       "         array(['depth'], dtype='<U5'),\n",
       "         array(['ctx_rh_G_insular_short'], dtype='<U22')],\n",
       "        [array(['RI3'], dtype='<U3'),\n",
       "         array(['RightInsulaDepthElectrode3'], dtype='<U26'),\n",
       "         array(['depth'], dtype='<U5'),\n",
       "         array(['ctx_rh_G_front_inf-Opercular'], dtype='<U28')],\n",
       "        [array(['LH2'], dtype='<U3'),\n",
       "         array(['LeftHippocampusDepthElectrode2'], dtype='<U30'),\n",
       "         array(['depth'], dtype='<U5'),\n",
       "         array(['Left-Hippocampus'], dtype='<U16')],\n",
       "        [array(['LH3'], dtype='<U3'),\n",
       "         array(['LeftHippocampusDepthElectrode3'], dtype='<U30'),\n",
       "         array(['depth'], dtype='<U5'),\n",
       "         array(['Left-Hippocampus'], dtype='<U16')],\n",
       "        [array(['LC2'], dtype='<U3'),\n",
       "         array(['LeftCingulateDepthElectrode2'], dtype='<U28'),\n",
       "         array(['depth'], dtype='<U5'),\n",
       "         array(['ctx_lh_G_and_S_cingul-Mid-Ant'], dtype='<U29')],\n",
       "        [array(['LI1'], dtype='<U3'),\n",
       "         array(['LeftInsulaDepthElectrode1'], dtype='<U25'),\n",
       "         array(['depth'], dtype='<U5'),\n",
       "         array(['ctx_lh_G_insular_short'], dtype='<U22')],\n",
       "        [array(['LI2'], dtype='<U3'),\n",
       "         array(['LeftInsulaDepthElectrode2'], dtype='<U25'),\n",
       "         array(['depth'], dtype='<U5'),\n",
       "         array(['ctx_lh_G_insular_short'], dtype='<U22')],\n",
       "        [array(['LI3'], dtype='<U3'),\n",
       "         array(['LeftInsulaDepthElectrode3'], dtype='<U25'),\n",
       "         array(['depth'], dtype='<U5'),\n",
       "         array(['ctx_lh_G_front_inf-Opercular'], dtype='<U28')]],\n",
       "       dtype=object),\n",
       " 'stimFreq': array([[100]], dtype=uint8)}"
      ]
     },
     "metadata": {},
     "output_type": "display_data"
    }
   ],
   "source": [
    "data_dict"
   ]
  },
  {
   "cell_type": "code",
   "execution_count": 8,
   "metadata": {},
   "outputs": [
    {
     "data": {
      "text/plain": [
       "(array([[array(['Right OFC'], dtype='<U9'),\n",
       "         array(['Right Hippocampus'], dtype='<U17'),\n",
       "         array(['Right Dorsal Cingulate'], dtype='<U22'),\n",
       "         array(['Right Insula'], dtype='<U12'),\n",
       "         array(['Left Hippocampus'], dtype='<U16'),\n",
       "         array(['Left Dorsal Cingulate'], dtype='<U21'),\n",
       "         array(['Left Insula'], dtype='<U11')]], dtype=object),\n",
       " array([array(['Right OFC'], dtype='<U9'),\n",
       "        array(['Right Hippocampus'], dtype='<U17'),\n",
       "        array(['Right Dorsal Cingulate'], dtype='<U22'),\n",
       "        array(['Right Insula'], dtype='<U12'),\n",
       "        array(['Left Hippocampus'], dtype='<U16'),\n",
       "        array(['Left Dorsal Cingulate'], dtype='<U21'),\n",
       "        array(['Left Insula'], dtype='<U11')], dtype=object))"
      ]
     },
     "execution_count": 8,
     "metadata": {},
     "output_type": "execute_result"
    }
   ],
   "source": [
    "data_dict[\"regionNames\"], np.squeeze(data_dict[\"regionNames\"])"
   ]
  },
  {
   "cell_type": "code",
   "execution_count": 26,
   "metadata": {},
   "outputs": [],
   "source": [
    "a = np.concatenate([*np.squeeze(data_dict[\"regionNames\"])])"
   ]
  },
  {
   "cell_type": "code",
   "execution_count": 28,
   "metadata": {},
   "outputs": [
    {
     "data": {
      "text/plain": [
       "array(['Right OFC', 'Right Hippocampus', 'Right Dorsal Cingulate',\n",
       "       'Right Insula', 'Left Hippocampus', 'Left Dorsal Cingulate',\n",
       "       'Left Insula'], dtype='<U22')"
      ]
     },
     "execution_count": 28,
     "metadata": {},
     "output_type": "execute_result"
    }
   ],
   "source": [
    "a"
   ]
  },
  {
   "cell_type": "markdown",
   "metadata": {},
   "source": [
    "# Squeeze all extraneous dimensions"
   ]
  },
  {
   "cell_type": "code",
   "execution_count": 31,
   "metadata": {},
   "outputs": [],
   "source": [
    "squeezed_dict = {}\n",
    "for k in data_dict.keys():\n",
    "    curr = data_dict[k]\n",
    "    squeezed_dict[k] = np.squeeze(curr)"
   ]
  },
  {
   "cell_type": "markdown",
   "metadata": {},
   "source": [
    "# Turn names into lists"
   ]
  },
  {
   "cell_type": "code",
   "execution_count": 32,
   "metadata": {},
   "outputs": [
    {
     "name": "stdout",
     "output_type": "stream",
     "text": [
      "finalVerifiedChanNames\n",
      "regionNames\n",
      "selectVerifiedAnatomy\n"
     ]
    }
   ],
   "source": [
    "for k in squeezed_dict.keys():\n",
    "    if squeezed_dict[k].dtype == object:\n",
    "        print(k)"
   ]
  },
  {
   "cell_type": "code",
   "execution_count": 61,
   "metadata": {},
   "outputs": [
    {
     "name": "stdout",
     "output_type": "stream",
     "text": [
      "<U4\n",
      "<U22\n",
      "object\n"
     ]
    }
   ],
   "source": [
    "import copy\n",
    "\n",
    "squeezed_dict_names_list = copy.deepcopy(squeezed_dict)\n",
    "for k in squeezed_dict.keys():\n",
    "    if squeezed_dict[k].dtype == object:\n",
    "        curr = squeezed_dict[k]\n",
    "        curr = np.concatenate([*np.squeeze(curr)])\n",
    "        print(curr.dtype)\n",
    "        squeezed_dict_names_list[k] = curr"
   ]
  },
  {
   "cell_type": "code",
   "execution_count": 62,
   "metadata": {},
   "outputs": [
    {
     "data": {
      "text/plain": [
       "(68,)"
      ]
     },
     "execution_count": 62,
     "metadata": {},
     "output_type": "execute_result"
    }
   ],
   "source": [
    "squeezed_dict_names_list[\"selectVerifiedAnatomy\"].shape"
   ]
  },
  {
   "cell_type": "code",
   "execution_count": 63,
   "metadata": {},
   "outputs": [
    {
     "data": {
      "text/plain": [
       "array([['ROF1', 'RightOFCDepthElectrode1', 'depth', 'ctx_rh_G_rectus'],\n",
       "       ['ROF2', 'RightOFCDepthElectrode2', 'depth', 'ctx_rh_G_orbital'],\n",
       "       ['RH1', 'RightHippocampusDepthElectrode1', 'depth',\n",
       "        'Right-Hippocampus'],\n",
       "       ['RH2', 'RightHippocampusDepthElectrode2', 'depth',\n",
       "        'Right-Hippocampus'],\n",
       "       ['RH3', 'RightHippocampusDepthElectrode3', 'depth',\n",
       "        'Right-Hippocampus'],\n",
       "       ['RH4', 'RightHippocampusDepthElectrode4', 'depth',\n",
       "        'Right-Cerebral-White-Matter'],\n",
       "       ['RC1', 'RightCingulateDepthElectrode1', 'depth',\n",
       "        'ctx_rh_G_and_S_cingul-Ant'],\n",
       "       ['RC2', 'RightCingulateDepthElectrode2', 'depth',\n",
       "        'ctx_rh_G_and_S_cingul-Mid-Ant'],\n",
       "       ['RI1', 'RightInsulaDepthElectrode1', 'depth',\n",
       "        'ctx_rh_G_Ins_lg_and_S_cent_ins'],\n",
       "       ['RI2', 'RightInsulaDepthElectrode2', 'depth',\n",
       "        'ctx_rh_G_insular_short'],\n",
       "       ['RI3', 'RightInsulaDepthElectrode3', 'depth',\n",
       "        'ctx_rh_G_front_inf-Opercular'],\n",
       "       ['LH2', 'LeftHippocampusDepthElectrode2', 'depth',\n",
       "        'Left-Hippocampus'],\n",
       "       ['LH3', 'LeftHippocampusDepthElectrode3', 'depth',\n",
       "        'Left-Hippocampus'],\n",
       "       ['LC2', 'LeftCingulateDepthElectrode2', 'depth',\n",
       "        'ctx_lh_G_and_S_cingul-Mid-Ant'],\n",
       "       ['LI1', 'LeftInsulaDepthElectrode1', 'depth',\n",
       "        'ctx_lh_G_insular_short'],\n",
       "       ['LI2', 'LeftInsulaDepthElectrode2', 'depth',\n",
       "        'ctx_lh_G_insular_short'],\n",
       "       ['LI3', 'LeftInsulaDepthElectrode3', 'depth',\n",
       "        'ctx_lh_G_front_inf-Opercular']], dtype='<U31')"
      ]
     },
     "execution_count": 63,
     "metadata": {},
     "output_type": "execute_result"
    }
   ],
   "source": [
    "np.array(\n",
    "    [\n",
    "        np.concatenate(alpha)\n",
    "        for alpha in squeezed_dict_names_list[\"selectVerifiedAnatomy\"].reshape(-1, 4)\n",
    "    ]\n",
    ")"
   ]
  },
  {
   "cell_type": "markdown",
   "metadata": {},
   "source": [
    "# selectVerifiedAnatomy is a list of 4 strings.\n",
    "The other names (`finalVerifiedChanNames` and `regionNames`) are just a list of strings, so we can flatten them."
   ]
  },
  {
   "cell_type": "code",
   "execution_count": 64,
   "metadata": {},
   "outputs": [],
   "source": [
    "squeezed_dict_names_list[\"selectVerifiedAnatomy\"] = np.array(\n",
    "    [\n",
    "        np.concatenate(alpha)\n",
    "        for alpha in squeezed_dict_names_list[\"selectVerifiedAnatomy\"].reshape(-1, 4)\n",
    "    ]\n",
    ")"
   ]
  },
  {
   "cell_type": "code",
   "execution_count": 65,
   "metadata": {},
   "outputs": [
    {
     "data": {
      "text/plain": [
       "{'Fs': array(16384, dtype=uint16),\n",
       " 'allRejectedChans': array([ 10,  16,  29,  30,  46,  69,  71,  72,  74,  75,  76,  77,  79,\n",
       "         82, 108], dtype=uint8),\n",
       " 'artifactBufferAfter': array(33, dtype=uint8),\n",
       " 'artifactBufferBefore': array(14, dtype=uint8),\n",
       " 'artifactEnds': array([ 709703,  709868,  710032, ..., 4354320, 4354484, 4354649],\n",
       "       dtype=int32),\n",
       " 'artifactStarts': array([ 709656,  709821,  709985, ..., 4354273, 4354437, 4354602],\n",
       "       dtype=int32),\n",
       " 'dsFs': array(512, dtype=uint16),\n",
       " 'finalVerifiedChanNames': array(['ROF1', 'ROF2', 'RH1', 'RH2', 'RH3', 'RH4', 'RC1', 'RC2', 'RI1',\n",
       "        'RI2', 'RI3', 'LH2', 'LH3', 'LC2', 'LI1', 'LI2', 'LI3'],\n",
       "       dtype='<U4'),\n",
       " 'finalVerifiedRegions': array([1, 1, 2, 2, 2, 2, 3, 3, 4, 4, 4, 5, 5, 6, 7, 7, 7], dtype=uint8),\n",
       " 'numVerifiedChans': array(17, dtype=uint8),\n",
       " 'patientID': array('EC99', dtype='<U4'),\n",
       " 'plotStimEnd': array(4321882, dtype=int32),\n",
       " 'plotStimStart': array(724546, dtype=int32),\n",
       " 'preprocessedStimData': array([[ 13.09638841,  26.69612248,  22.1996835 , ...,  12.94669762,\n",
       "          13.81617695,   5.84516229],\n",
       "        [ -3.15007078,  -6.86997941,  -4.58036969, ...,   8.30022235,\n",
       "          12.96974083,   6.33259912],\n",
       "        [ -3.23561283,  -0.98786814,  -0.5717102 , ...,   7.58056283,\n",
       "           8.84850644,   5.17236025],\n",
       "        ...,\n",
       "        [ 22.09422946,  40.39777095,  25.30873277, ..., -16.30820015,\n",
       "         -21.11068856, -10.15769597],\n",
       "        [ 13.59688951,  18.81945292,   5.33297034, ..., -20.09199897,\n",
       "         -22.5341938 , -11.10501087],\n",
       "        [ 10.62128678,  13.13548915,   4.87020119, ..., -21.5385163 ,\n",
       "         -21.06608766,  -9.9728979 ]]),\n",
       " 'regionNames': array(['Right OFC', 'Right Hippocampus', 'Right Dorsal Cingulate',\n",
       "        'Right Insula', 'Left Hippocampus', 'Left Dorsal Cingulate',\n",
       "        'Left Insula'], dtype='<U22'),\n",
       " 'rejectionTimes': array([[     -1,       1,  694794,  741605,       1,       0,       0],\n",
       "        [     -1,       1, 4340538, 4384993,       1,       0,       0],\n",
       "        [     -1,       1, 4579990, 4587589,       1,       0,       0]],\n",
       "       dtype=int32),\n",
       " 'removeOrReplace': array(2, dtype=uint8),\n",
       " 'selectVerifiedAnatomy': array([['ROF1', 'RightOFCDepthElectrode1', 'depth', 'ctx_rh_G_rectus'],\n",
       "        ['ROF2', 'RightOFCDepthElectrode2', 'depth', 'ctx_rh_G_orbital'],\n",
       "        ['RH1', 'RightHippocampusDepthElectrode1', 'depth',\n",
       "         'Right-Hippocampus'],\n",
       "        ['RH2', 'RightHippocampusDepthElectrode2', 'depth',\n",
       "         'Right-Hippocampus'],\n",
       "        ['RH3', 'RightHippocampusDepthElectrode3', 'depth',\n",
       "         'Right-Hippocampus'],\n",
       "        ['RH4', 'RightHippocampusDepthElectrode4', 'depth',\n",
       "         'Right-Cerebral-White-Matter'],\n",
       "        ['RC1', 'RightCingulateDepthElectrode1', 'depth',\n",
       "         'ctx_rh_G_and_S_cingul-Ant'],\n",
       "        ['RC2', 'RightCingulateDepthElectrode2', 'depth',\n",
       "         'ctx_rh_G_and_S_cingul-Mid-Ant'],\n",
       "        ['RI1', 'RightInsulaDepthElectrode1', 'depth',\n",
       "         'ctx_rh_G_Ins_lg_and_S_cent_ins'],\n",
       "        ['RI2', 'RightInsulaDepthElectrode2', 'depth',\n",
       "         'ctx_rh_G_insular_short'],\n",
       "        ['RI3', 'RightInsulaDepthElectrode3', 'depth',\n",
       "         'ctx_rh_G_front_inf-Opercular'],\n",
       "        ['LH2', 'LeftHippocampusDepthElectrode2', 'depth',\n",
       "         'Left-Hippocampus'],\n",
       "        ['LH3', 'LeftHippocampusDepthElectrode3', 'depth',\n",
       "         'Left-Hippocampus'],\n",
       "        ['LC2', 'LeftCingulateDepthElectrode2', 'depth',\n",
       "         'ctx_lh_G_and_S_cingul-Mid-Ant'],\n",
       "        ['LI1', 'LeftInsulaDepthElectrode1', 'depth',\n",
       "         'ctx_lh_G_insular_short'],\n",
       "        ['LI2', 'LeftInsulaDepthElectrode2', 'depth',\n",
       "         'ctx_lh_G_insular_short'],\n",
       "        ['LI3', 'LeftInsulaDepthElectrode3', 'depth',\n",
       "         'ctx_lh_G_front_inf-Opercular']], dtype='<U31'),\n",
       " 'stimFreq': array(100, dtype=uint8)}"
      ]
     },
     "execution_count": 65,
     "metadata": {},
     "output_type": "execute_result"
    }
   ],
   "source": [
    "squeezed_dict_names_list"
   ]
  },
  {
   "cell_type": "code",
   "execution_count": 73,
   "metadata": {},
   "outputs": [],
   "source": [
    "import os"
   ]
  },
  {
   "cell_type": "code",
   "execution_count": 68,
   "metadata": {},
   "outputs": [
    {
     "data": {
      "text/plain": [
       "'bye'"
      ]
     },
     "execution_count": 68,
     "metadata": {},
     "output_type": "execute_result"
    }
   ],
   "source": [
    "a = \"hi/bye.txt\"\n",
    "os.path.basename(a).split(\".\")[0]"
   ]
  },
  {
   "cell_type": "code",
   "execution_count": null,
   "metadata": {},
   "outputs": [],
   "source": []
  }
 ],
 "metadata": {
  "kernelspec": {
   "display_name": "megadetect",
   "language": "python",
   "name": "python3"
  },
  "language_info": {
   "codemirror_mode": {
    "name": "ipython",
    "version": 3
   },
   "file_extension": ".py",
   "mimetype": "text/x-python",
   "name": "python",
   "nbconvert_exporter": "python",
   "pygments_lexer": "ipython3",
   "version": "3.7.12"
  },
  "orig_nbformat": 4
 },
 "nbformat": 4,
 "nbformat_minor": 2
}
